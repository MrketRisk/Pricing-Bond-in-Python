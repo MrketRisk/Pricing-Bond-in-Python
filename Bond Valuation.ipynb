{
 "cells": [
  {
   "cell_type": "markdown",
   "id": "3b5856f7",
   "metadata": {},
   "source": [
    "This code replicates PRICE function in MS Excel.\n",
    "For a detailed explanation of what PRICE function does in MS Excel, refer: https://support.microsoft.com/en-us/office/price-function-3ea9deac-8dfa-436f-a7c8-17ea02c21b0a\n",
    "\n",
    "Purpose: To compute the PV of of bond with 100 as redemption value and pays periodic coupon.\n",
    "\n"
   ]
  },
  {
   "cell_type": "code",
   "execution_count": 278,
   "id": "61a1ce52",
   "metadata": {},
   "outputs": [],
   "source": [
    "import datetime\n",
    "import numpy as np\n",
    "import pandas as pd\n",
    "import calendar\n",
    "import math"
   ]
  },
  {
   "cell_type": "code",
   "execution_count": 277,
   "id": "03d60947",
   "metadata": {},
   "outputs": [],
   "source": [
    "def Coupon_Dates(Settlement,Maturity,N):\n",
    "    if N>1:\n",
    "               \n",
    "        SettMonth=Settlement.month\n",
    "        SettDate=Settlement.day\n",
    "        SettYear=Settlement.year\n",
    "    \n",
    "        MatMonth=Maturity.month\n",
    "    \n",
    "        CouponMonth=MatMonth-6\n",
    "        if CouponMonth<0:\n",
    "            CouponMonth=CouponMonth+12\n",
    "        \n",
    "        CouponDay = 31   \n",
    "        if (CouponMonth == 4) | (CouponMonth == 6) | (CouponMonth == 9) | (CouponMonth == 11):\n",
    "            CouponDay = 30\n",
    "        elif CouponMonth == 2:\n",
    "            CouponDay = 28\n",
    "            \n",
    "        NextCouponDate = datetime.date(SettYear, CouponMonth, CouponDay)\n",
    "    \n",
    "        PrevCouponMonth=CouponMonth-6\n",
    "        PrevCouponYear=SettYear\n",
    "        if PrevCouponMonth<=0:\n",
    "            PrevCouponMonth=PrevCouponMonth+12\n",
    "            PrevCouponYear=SettYear-1\n",
    "    \n",
    "        PrevCouponDay = 31   \n",
    "        if (PrevCouponMonth == 4) | (PrevCouponMonth == 6) | (PrevCouponMonth == 9) | (PrevCouponMonth == 11):\n",
    "            PrevCouponDay = 30\n",
    "        elif PrevCouponMonth == 2:\n",
    "            PrevCouponDay = 28\n",
    "        \n",
    "        PrevCouponDate = datetime.date(PrevCouponYear, PrevCouponMonth, PrevCouponDay)\n",
    "        \n",
    "    if N==1:\n",
    "        SettMonth=Settlement.month\n",
    "        SettDate=Settlement.day\n",
    "        SettYear=Settlement.year\n",
    "    \n",
    "        MatMonth=Maturity.month\n",
    "    \n",
    "        PrevCouponMonth=MatMonth-6\n",
    "        if PrevCouponMonth<0:\n",
    "            PrevCouponMonth=PrevCouponMonth+12\n",
    "        \n",
    "        PrevCouponDay = 31   \n",
    "        if (PrevCouponMonth == 4) | (PrevCouponMonth == 6) | (PrevCouponMonth == 9) | (PrevCouponMonth == 11):\n",
    "            PrevCouponDay = 30\n",
    "        elif PrevCouponMonth == 2:\n",
    "            PrevCouponDay = 28\n",
    "            \n",
    "        PrevCouponDate = datetime.date(SettYear, PrevCouponMonth, PrevCouponDay)\n",
    "        \n",
    "    \n",
    "    return(Maturity,PrevCouponDate)"
   ]
  },
  {
   "cell_type": "code",
   "execution_count": 276,
   "id": "28a8d790",
   "metadata": {},
   "outputs": [],
   "source": [
    "def fn_Price(Settlement,Maturity,Rate,Yield,Redemption,Frequency,Basis):\n",
    "      \n",
    "    Months = (Maturity.year*12 + Maturity.month)-(Settlement.year*12 + Settlement.month)\n",
    "    DaysLeftInMonth = calendar.monthrange(Settlement.year, Settlement.month)[1] - Settlement.day\n",
    "    if DaysLeftInMonth>0:\n",
    "        Months = Months + 1\n",
    "    \n",
    "    N = math.ceil(Months * Frequency / 12)\n",
    "        \n",
    "    if N>1:\n",
    "        CouponDates = Coupon_Dates(Settlement,Maturity,N)\n",
    "        \n",
    "        DSC= (CouponDates[0]-Settlement).days #number of days from settlement to next coupon date\n",
    "        A= (Settlement-CouponDates[1]).days #number of days from beginning of coupon period to settlement date.\n",
    "        E=(CouponDates[0] - CouponDates[1]).days #number of days in coupon period in which the settlement date falls.\n",
    "               \n",
    "        ReedemPV = Redemption/(1+Yield/Frequency)**(N-1+(DSC/E)) #Present Value of Redemption Amount\n",
    "        AccruedInt = 100 * (Rate/Frequency) * (A/E) #Accrued Interest\n",
    "        CouponPV = 0 #Present Value of Coupon Payment\n",
    "        for i in range (N):\n",
    "            CouponPV = CouponPV + ((100 * Rate/Frequency)/(1 + Yield/Frequency)**(i + DSC/E))\n",
    "                    \n",
    "        Price = ReedemPV + CouponPV - AccruedInt\n",
    "        \n",
    "    if N==1:\n",
    "        CouponDates = Coupon_Dates(Settlement,Maturity,N)\n",
    "        \n",
    "        A= (Settlement-CouponDates[1]).days #number of days from beginning of coupon period to settlement date.\n",
    "        E=(CouponDates[0] - CouponDates[1]).days #number of days in coupon period in which the settlement date falls.\n",
    "        DSR=E-A \n",
    "        \n",
    "        T1 = (100*Rate/Frequency) + Redemption\n",
    "        T2 = ((Yield*DSR)/(Frequency*E))+1\n",
    "        T3 = 100*Rate*A/(Frequency*E)\n",
    "        \n",
    "        Price = (T1/T2)-T3\n",
    "    \n",
    "   \n",
    "    return(Price)\n",
    "      "
   ]
  },
  {
   "cell_type": "code",
   "execution_count": 279,
   "id": "b50c978e",
   "metadata": {},
   "outputs": [
    {
     "name": "stdout",
     "output_type": "stream",
     "text": [
      "100.47982332853425\n"
     ]
    }
   ],
   "source": [
    "Settlement = datetime.date(2024, 7, 1)\n",
    "Maturity = datetime.date(2024, 12, 31)\n",
    "Rate = 0.08\n",
    "Yield = 0.07\n",
    "Redemption = 100\n",
    "Frequency = 2 #Assume only 2 is allowed\n",
    "Basis = 1\n",
    "\n",
    "Price = fn_Price(Settlement,Maturity,Rate,Yield,Redemption,Frequency,Basis)\n",
    "print(Price)"
   ]
  },
  {
   "cell_type": "code",
   "execution_count": null,
   "id": "62777e87",
   "metadata": {},
   "outputs": [],
   "source": []
  }
 ],
 "metadata": {
  "kernelspec": {
   "display_name": "Python 3 (ipykernel)",
   "language": "python",
   "name": "python3"
  },
  "language_info": {
   "codemirror_mode": {
    "name": "ipython",
    "version": 3
   },
   "file_extension": ".py",
   "mimetype": "text/x-python",
   "name": "python",
   "nbconvert_exporter": "python",
   "pygments_lexer": "ipython3",
   "version": "3.10.9"
  }
 },
 "nbformat": 4,
 "nbformat_minor": 5
}
